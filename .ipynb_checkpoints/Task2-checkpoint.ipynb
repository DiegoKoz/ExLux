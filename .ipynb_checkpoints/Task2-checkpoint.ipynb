{
 "cells": [
  {
   "cell_type": "markdown",
   "metadata": {},
   "source": [
    "# Task 2\n",
    "\n",
    "## Diego Kozlowski"
   ]
  },
  {
   "cell_type": "code",
   "execution_count": 1,
   "metadata": {},
   "outputs": [],
   "source": [
    "import pandas as pd\n",
    "import numpy as np\n",
    "from sklearn.preprocessing import OneHotEncoder, LabelEncoder\n",
    "from sklearn.model_selection import train_test_split\n",
    "from sklearn.metrics import accuracy_score, classification_report, confusion_matrix\n",
    "from sklearn.svm import SVC\n",
    "from sklearn.ensemble import GradientBoostingClassifier, RandomForestClassifier\n",
    "import missingno as msno"
   ]
  },
  {
   "cell_type": "code",
   "execution_count": 2,
   "metadata": {},
   "outputs": [],
   "source": [
    "main_df = pd.read_csv('data/task2-main_train.csv')\n",
    "additional_df = pd.read_csv('data/task2-additional.csv')"
   ]
  },
  {
   "cell_type": "code",
   "execution_count": 3,
   "metadata": {},
   "outputs": [
    {
     "data": {
      "text/html": [
       "<div>\n",
       "<style scoped>\n",
       "    .dataframe tbody tr th:only-of-type {\n",
       "        vertical-align: middle;\n",
       "    }\n",
       "\n",
       "    .dataframe tbody tr th {\n",
       "        vertical-align: top;\n",
       "    }\n",
       "\n",
       "    .dataframe thead th {\n",
       "        text-align: right;\n",
       "    }\n",
       "</style>\n",
       "<table border=\"1\" class=\"dataframe\">\n",
       "  <thead>\n",
       "    <tr style=\"text-align: right;\">\n",
       "      <th></th>\n",
       "      <th>SK_ID_CURR</th>\n",
       "      <th>TARGET</th>\n",
       "      <th>CNT_CHILDREN</th>\n",
       "      <th>AMT_INCOME_TOTAL</th>\n",
       "      <th>AMT_CREDIT</th>\n",
       "      <th>REGION_POPULATION_RELATIVE</th>\n",
       "      <th>DAYS_BIRTH</th>\n",
       "      <th>DAYS_EMPLOYED</th>\n",
       "      <th>DAYS_REGISTRATION</th>\n",
       "      <th>DAYS_ID_PUBLISH</th>\n",
       "      <th>...</th>\n",
       "      <th>FLAG_DOCUMENT_12</th>\n",
       "      <th>FLAG_DOCUMENT_13</th>\n",
       "      <th>FLAG_DOCUMENT_14</th>\n",
       "      <th>FLAG_DOCUMENT_15</th>\n",
       "      <th>FLAG_DOCUMENT_16</th>\n",
       "      <th>FLAG_DOCUMENT_17</th>\n",
       "      <th>FLAG_DOCUMENT_18</th>\n",
       "      <th>FLAG_DOCUMENT_19</th>\n",
       "      <th>FLAG_DOCUMENT_20</th>\n",
       "      <th>FLAG_DOCUMENT_21</th>\n",
       "    </tr>\n",
       "  </thead>\n",
       "  <tbody>\n",
       "    <tr>\n",
       "      <th>count</th>\n",
       "      <td>80000.000000</td>\n",
       "      <td>80000.000000</td>\n",
       "      <td>80000.000000</td>\n",
       "      <td>8.000000e+04</td>\n",
       "      <td>8.000000e+04</td>\n",
       "      <td>80000.000000</td>\n",
       "      <td>80000.000000</td>\n",
       "      <td>80000.000000</td>\n",
       "      <td>80000.000000</td>\n",
       "      <td>80000.00000</td>\n",
       "      <td>...</td>\n",
       "      <td>80000.000000</td>\n",
       "      <td>80000.000000</td>\n",
       "      <td>80000.000000</td>\n",
       "      <td>80000.000000</td>\n",
       "      <td>80000.000000</td>\n",
       "      <td>80000.000000</td>\n",
       "      <td>80000.000000</td>\n",
       "      <td>80000.000000</td>\n",
       "      <td>80000.000000</td>\n",
       "      <td>80000.000000</td>\n",
       "    </tr>\n",
       "    <tr>\n",
       "      <th>mean</th>\n",
       "      <td>278104.707063</td>\n",
       "      <td>0.082525</td>\n",
       "      <td>0.417450</td>\n",
       "      <td>1.684795e+05</td>\n",
       "      <td>5.981715e+05</td>\n",
       "      <td>0.020832</td>\n",
       "      <td>-16039.900738</td>\n",
       "      <td>64298.115925</td>\n",
       "      <td>-4981.408213</td>\n",
       "      <td>-2992.28250</td>\n",
       "      <td>...</td>\n",
       "      <td>0.000013</td>\n",
       "      <td>0.003600</td>\n",
       "      <td>0.003138</td>\n",
       "      <td>0.001375</td>\n",
       "      <td>0.010537</td>\n",
       "      <td>0.000275</td>\n",
       "      <td>0.008550</td>\n",
       "      <td>0.000500</td>\n",
       "      <td>0.000438</td>\n",
       "      <td>0.000387</td>\n",
       "    </tr>\n",
       "    <tr>\n",
       "      <th>std</th>\n",
       "      <td>102987.110897</td>\n",
       "      <td>0.275165</td>\n",
       "      <td>0.718465</td>\n",
       "      <td>1.145367e+05</td>\n",
       "      <td>4.046058e+05</td>\n",
       "      <td>0.013838</td>\n",
       "      <td>4362.872130</td>\n",
       "      <td>141678.038791</td>\n",
       "      <td>3518.264797</td>\n",
       "      <td>1508.16642</td>\n",
       "      <td>...</td>\n",
       "      <td>0.003536</td>\n",
       "      <td>0.059892</td>\n",
       "      <td>0.055926</td>\n",
       "      <td>0.037056</td>\n",
       "      <td>0.102111</td>\n",
       "      <td>0.016581</td>\n",
       "      <td>0.092071</td>\n",
       "      <td>0.022355</td>\n",
       "      <td>0.020912</td>\n",
       "      <td>0.019681</td>\n",
       "    </tr>\n",
       "    <tr>\n",
       "      <th>min</th>\n",
       "      <td>100007.000000</td>\n",
       "      <td>0.000000</td>\n",
       "      <td>0.000000</td>\n",
       "      <td>2.700000e+04</td>\n",
       "      <td>4.500000e+04</td>\n",
       "      <td>0.000533</td>\n",
       "      <td>-25197.000000</td>\n",
       "      <td>-17583.000000</td>\n",
       "      <td>-23738.000000</td>\n",
       "      <td>-6337.00000</td>\n",
       "      <td>...</td>\n",
       "      <td>0.000000</td>\n",
       "      <td>0.000000</td>\n",
       "      <td>0.000000</td>\n",
       "      <td>0.000000</td>\n",
       "      <td>0.000000</td>\n",
       "      <td>0.000000</td>\n",
       "      <td>0.000000</td>\n",
       "      <td>0.000000</td>\n",
       "      <td>0.000000</td>\n",
       "      <td>0.000000</td>\n",
       "    </tr>\n",
       "    <tr>\n",
       "      <th>25%</th>\n",
       "      <td>188704.000000</td>\n",
       "      <td>0.000000</td>\n",
       "      <td>0.000000</td>\n",
       "      <td>1.125000e+05</td>\n",
       "      <td>2.700000e+05</td>\n",
       "      <td>0.010006</td>\n",
       "      <td>-19682.250000</td>\n",
       "      <td>-2771.000000</td>\n",
       "      <td>-7491.000000</td>\n",
       "      <td>-4296.00000</td>\n",
       "      <td>...</td>\n",
       "      <td>0.000000</td>\n",
       "      <td>0.000000</td>\n",
       "      <td>0.000000</td>\n",
       "      <td>0.000000</td>\n",
       "      <td>0.000000</td>\n",
       "      <td>0.000000</td>\n",
       "      <td>0.000000</td>\n",
       "      <td>0.000000</td>\n",
       "      <td>0.000000</td>\n",
       "      <td>0.000000</td>\n",
       "    </tr>\n",
       "    <tr>\n",
       "      <th>50%</th>\n",
       "      <td>277720.500000</td>\n",
       "      <td>0.000000</td>\n",
       "      <td>0.000000</td>\n",
       "      <td>1.462500e+05</td>\n",
       "      <td>5.099220e+05</td>\n",
       "      <td>0.018850</td>\n",
       "      <td>-15763.000000</td>\n",
       "      <td>-1200.000000</td>\n",
       "      <td>-4504.000000</td>\n",
       "      <td>-3246.50000</td>\n",
       "      <td>...</td>\n",
       "      <td>0.000000</td>\n",
       "      <td>0.000000</td>\n",
       "      <td>0.000000</td>\n",
       "      <td>0.000000</td>\n",
       "      <td>0.000000</td>\n",
       "      <td>0.000000</td>\n",
       "      <td>0.000000</td>\n",
       "      <td>0.000000</td>\n",
       "      <td>0.000000</td>\n",
       "      <td>0.000000</td>\n",
       "    </tr>\n",
       "    <tr>\n",
       "      <th>75%</th>\n",
       "      <td>367623.250000</td>\n",
       "      <td>0.000000</td>\n",
       "      <td>1.000000</td>\n",
       "      <td>2.025000e+05</td>\n",
       "      <td>8.086500e+05</td>\n",
       "      <td>0.028663</td>\n",
       "      <td>-12420.000000</td>\n",
       "      <td>-277.000000</td>\n",
       "      <td>-2009.000000</td>\n",
       "      <td>-1716.75000</td>\n",
       "      <td>...</td>\n",
       "      <td>0.000000</td>\n",
       "      <td>0.000000</td>\n",
       "      <td>0.000000</td>\n",
       "      <td>0.000000</td>\n",
       "      <td>0.000000</td>\n",
       "      <td>0.000000</td>\n",
       "      <td>0.000000</td>\n",
       "      <td>0.000000</td>\n",
       "      <td>0.000000</td>\n",
       "      <td>0.000000</td>\n",
       "    </tr>\n",
       "    <tr>\n",
       "      <th>max</th>\n",
       "      <td>456254.000000</td>\n",
       "      <td>1.000000</td>\n",
       "      <td>10.000000</td>\n",
       "      <td>1.350000e+07</td>\n",
       "      <td>4.050000e+06</td>\n",
       "      <td>0.072508</td>\n",
       "      <td>-7673.000000</td>\n",
       "      <td>365243.000000</td>\n",
       "      <td>0.000000</td>\n",
       "      <td>0.00000</td>\n",
       "      <td>...</td>\n",
       "      <td>1.000000</td>\n",
       "      <td>1.000000</td>\n",
       "      <td>1.000000</td>\n",
       "      <td>1.000000</td>\n",
       "      <td>1.000000</td>\n",
       "      <td>1.000000</td>\n",
       "      <td>1.000000</td>\n",
       "      <td>1.000000</td>\n",
       "      <td>1.000000</td>\n",
       "      <td>1.000000</td>\n",
       "    </tr>\n",
       "  </tbody>\n",
       "</table>\n",
       "<p>8 rows × 45 columns</p>\n",
       "</div>"
      ],
      "text/plain": [
       "          SK_ID_CURR        TARGET  CNT_CHILDREN  AMT_INCOME_TOTAL  \\\n",
       "count   80000.000000  80000.000000  80000.000000      8.000000e+04   \n",
       "mean   278104.707063      0.082525      0.417450      1.684795e+05   \n",
       "std    102987.110897      0.275165      0.718465      1.145367e+05   \n",
       "min    100007.000000      0.000000      0.000000      2.700000e+04   \n",
       "25%    188704.000000      0.000000      0.000000      1.125000e+05   \n",
       "50%    277720.500000      0.000000      0.000000      1.462500e+05   \n",
       "75%    367623.250000      0.000000      1.000000      2.025000e+05   \n",
       "max    456254.000000      1.000000     10.000000      1.350000e+07   \n",
       "\n",
       "         AMT_CREDIT  REGION_POPULATION_RELATIVE    DAYS_BIRTH  DAYS_EMPLOYED  \\\n",
       "count  8.000000e+04                80000.000000  80000.000000   80000.000000   \n",
       "mean   5.981715e+05                    0.020832 -16039.900738   64298.115925   \n",
       "std    4.046058e+05                    0.013838   4362.872130  141678.038791   \n",
       "min    4.500000e+04                    0.000533 -25197.000000  -17583.000000   \n",
       "25%    2.700000e+05                    0.010006 -19682.250000   -2771.000000   \n",
       "50%    5.099220e+05                    0.018850 -15763.000000   -1200.000000   \n",
       "75%    8.086500e+05                    0.028663 -12420.000000    -277.000000   \n",
       "max    4.050000e+06                    0.072508  -7673.000000  365243.000000   \n",
       "\n",
       "       DAYS_REGISTRATION  DAYS_ID_PUBLISH  ...  FLAG_DOCUMENT_12  \\\n",
       "count       80000.000000      80000.00000  ...      80000.000000   \n",
       "mean        -4981.408213      -2992.28250  ...          0.000013   \n",
       "std          3518.264797       1508.16642  ...          0.003536   \n",
       "min        -23738.000000      -6337.00000  ...          0.000000   \n",
       "25%         -7491.000000      -4296.00000  ...          0.000000   \n",
       "50%         -4504.000000      -3246.50000  ...          0.000000   \n",
       "75%         -2009.000000      -1716.75000  ...          0.000000   \n",
       "max             0.000000          0.00000  ...          1.000000   \n",
       "\n",
       "       FLAG_DOCUMENT_13  FLAG_DOCUMENT_14  FLAG_DOCUMENT_15  FLAG_DOCUMENT_16  \\\n",
       "count      80000.000000      80000.000000      80000.000000      80000.000000   \n",
       "mean           0.003600          0.003138          0.001375          0.010537   \n",
       "std            0.059892          0.055926          0.037056          0.102111   \n",
       "min            0.000000          0.000000          0.000000          0.000000   \n",
       "25%            0.000000          0.000000          0.000000          0.000000   \n",
       "50%            0.000000          0.000000          0.000000          0.000000   \n",
       "75%            0.000000          0.000000          0.000000          0.000000   \n",
       "max            1.000000          1.000000          1.000000          1.000000   \n",
       "\n",
       "       FLAG_DOCUMENT_17  FLAG_DOCUMENT_18  FLAG_DOCUMENT_19  FLAG_DOCUMENT_20  \\\n",
       "count      80000.000000      80000.000000      80000.000000      80000.000000   \n",
       "mean           0.000275          0.008550          0.000500          0.000438   \n",
       "std            0.016581          0.092071          0.022355          0.020912   \n",
       "min            0.000000          0.000000          0.000000          0.000000   \n",
       "25%            0.000000          0.000000          0.000000          0.000000   \n",
       "50%            0.000000          0.000000          0.000000          0.000000   \n",
       "75%            0.000000          0.000000          0.000000          0.000000   \n",
       "max            1.000000          1.000000          1.000000          1.000000   \n",
       "\n",
       "       FLAG_DOCUMENT_21  \n",
       "count      80000.000000  \n",
       "mean           0.000387  \n",
       "std            0.019681  \n",
       "min            0.000000  \n",
       "25%            0.000000  \n",
       "50%            0.000000  \n",
       "75%            0.000000  \n",
       "max            1.000000  \n",
       "\n",
       "[8 rows x 45 columns]"
      ]
     },
     "execution_count": 3,
     "metadata": {},
     "output_type": "execute_result"
    }
   ],
   "source": [
    "main_df.describe()"
   ]
  },
  {
   "cell_type": "code",
   "execution_count": 4,
   "metadata": {},
   "outputs": [
    {
     "data": {
      "text/plain": [
       "0"
      ]
     },
     "execution_count": 4,
     "metadata": {},
     "output_type": "execute_result"
    }
   ],
   "source": [
    "main_df.isna().sum().sum()"
   ]
  },
  {
   "cell_type": "code",
   "execution_count": 5,
   "metadata": {},
   "outputs": [
    {
     "data": {
      "text/html": [
       "<div>\n",
       "<style scoped>\n",
       "    .dataframe tbody tr th:only-of-type {\n",
       "        vertical-align: middle;\n",
       "    }\n",
       "\n",
       "    .dataframe tbody tr th {\n",
       "        vertical-align: top;\n",
       "    }\n",
       "\n",
       "    .dataframe thead th {\n",
       "        text-align: right;\n",
       "    }\n",
       "</style>\n",
       "<table border=\"1\" class=\"dataframe\">\n",
       "  <thead>\n",
       "    <tr style=\"text-align: right;\">\n",
       "      <th></th>\n",
       "      <th>SK_ID_CURR</th>\n",
       "      <th>SK_ID_BUREAU</th>\n",
       "      <th>CREDIT_ACTIVE</th>\n",
       "      <th>CREDIT_CURRENCY</th>\n",
       "      <th>DAYS_CREDIT</th>\n",
       "      <th>CREDIT_DAY_OVERDUE</th>\n",
       "      <th>DAYS_CREDIT_ENDDATE</th>\n",
       "      <th>DAYS_ENDDATE_FACT</th>\n",
       "      <th>AMT_CREDIT_MAX_OVERDUE</th>\n",
       "      <th>CNT_CREDIT_PROLONG</th>\n",
       "      <th>AMT_CREDIT_SUM</th>\n",
       "      <th>AMT_CREDIT_SUM_DEBT</th>\n",
       "      <th>AMT_CREDIT_SUM_LIMIT</th>\n",
       "      <th>AMT_CREDIT_SUM_OVERDUE</th>\n",
       "      <th>CREDIT_TYPE</th>\n",
       "      <th>DAYS_CREDIT_UPDATE</th>\n",
       "      <th>AMT_ANNUITY</th>\n",
       "    </tr>\n",
       "  </thead>\n",
       "  <tbody>\n",
       "    <tr>\n",
       "      <th>399064</th>\n",
       "      <td>302577</td>\n",
       "      <td>6702341</td>\n",
       "      <td>Closed</td>\n",
       "      <td>currency 1</td>\n",
       "      <td>-2025</td>\n",
       "      <td>0</td>\n",
       "      <td>-1775.0</td>\n",
       "      <td>-1775.0</td>\n",
       "      <td>NaN</td>\n",
       "      <td>0</td>\n",
       "      <td>107289.0</td>\n",
       "      <td>NaN</td>\n",
       "      <td>NaN</td>\n",
       "      <td>0.0</td>\n",
       "      <td>Consumer credit</td>\n",
       "      <td>-1775</td>\n",
       "      <td>11056.5</td>\n",
       "    </tr>\n",
       "    <tr>\n",
       "      <th>442491</th>\n",
       "      <td>366276</td>\n",
       "      <td>5596134</td>\n",
       "      <td>Active</td>\n",
       "      <td>currency 1</td>\n",
       "      <td>-1676</td>\n",
       "      <td>0</td>\n",
       "      <td>-1372.0</td>\n",
       "      <td>NaN</td>\n",
       "      <td>14827.86</td>\n",
       "      <td>0</td>\n",
       "      <td>135450.0</td>\n",
       "      <td>0.0</td>\n",
       "      <td>0.0</td>\n",
       "      <td>0.0</td>\n",
       "      <td>Consumer credit</td>\n",
       "      <td>-29</td>\n",
       "      <td>NaN</td>\n",
       "    </tr>\n",
       "  </tbody>\n",
       "</table>\n",
       "</div>"
      ],
      "text/plain": [
       "        SK_ID_CURR  SK_ID_BUREAU CREDIT_ACTIVE CREDIT_CURRENCY  DAYS_CREDIT  \\\n",
       "399064      302577       6702341        Closed      currency 1        -2025   \n",
       "442491      366276       5596134        Active      currency 1        -1676   \n",
       "\n",
       "        CREDIT_DAY_OVERDUE  DAYS_CREDIT_ENDDATE  DAYS_ENDDATE_FACT  \\\n",
       "399064                   0              -1775.0            -1775.0   \n",
       "442491                   0              -1372.0                NaN   \n",
       "\n",
       "        AMT_CREDIT_MAX_OVERDUE  CNT_CREDIT_PROLONG  AMT_CREDIT_SUM  \\\n",
       "399064                     NaN                   0        107289.0   \n",
       "442491                14827.86                   0        135450.0   \n",
       "\n",
       "        AMT_CREDIT_SUM_DEBT  AMT_CREDIT_SUM_LIMIT  AMT_CREDIT_SUM_OVERDUE  \\\n",
       "399064                  NaN                   NaN                     0.0   \n",
       "442491                  0.0                   0.0                     0.0   \n",
       "\n",
       "            CREDIT_TYPE  DAYS_CREDIT_UPDATE  AMT_ANNUITY  \n",
       "399064  Consumer credit               -1775      11056.5  \n",
       "442491  Consumer credit                 -29          NaN  "
      ]
     },
     "execution_count": 5,
     "metadata": {},
     "output_type": "execute_result"
    }
   ],
   "source": [
    "additional_df.sample(2)"
   ]
  },
  {
   "cell_type": "code",
   "execution_count": 6,
   "metadata": {},
   "outputs": [
    {
     "data": {
      "text/plain": [
       "1115070"
      ]
     },
     "execution_count": 6,
     "metadata": {},
     "output_type": "execute_result"
    }
   ],
   "source": [
    "additional_df.isna().sum().sum()"
   ]
  },
  {
   "cell_type": "markdown",
   "metadata": {},
   "source": [
    "Additional data has many NaNs"
   ]
  },
  {
   "cell_type": "code",
   "execution_count": 7,
   "metadata": {},
   "outputs": [
    {
     "name": "stdout",
     "output_type": "stream",
     "text": [
      "(476974, 17)\n",
      "(12920, 17)\n"
     ]
    }
   ],
   "source": [
    "print(additional_df.shape)\n",
    "print(additional_df.dropna().shape)"
   ]
  },
  {
   "cell_type": "markdown",
   "metadata": {},
   "source": [
    "If I drop the NaN's I loose too much information"
   ]
  },
  {
   "cell_type": "code",
   "execution_count": 8,
   "metadata": {},
   "outputs": [
    {
     "data": {
      "text/plain": [
       "<matplotlib.axes._subplots.AxesSubplot at 0x7f946c294f60>"
      ]
     },
     "execution_count": 8,
     "metadata": {},
     "output_type": "execute_result"
    },
    {
     "data": {
      "image/png": "[encoded data removed]",
      "text/plain": [
       "<Figure size 1800x720 with 2 Axes>"
      ]
     },
     "metadata": {
      "needs_background": "light"
     },
     "output_type": "display_data"
    }
   ],
   "source": [
    "msno.matrix(additional_df)"
   ]
  },
  {
   "cell_type": "markdown",
   "metadata": {},
   "source": [
    "It looks that when the credit is Active, DAYS_ENDDATE_FACT is NA. I replace it with '1'"
   ]
  },
  {
   "cell_type": "code",
   "execution_count": 9,
   "metadata": {},
   "outputs": [
    {
     "data": {
      "text/plain": [
       "<matplotlib.axes._subplots.AxesSubplot at 0x7f94681f9550>"
      ]
     },
     "execution_count": 9,
     "metadata": {},
     "output_type": "execute_result"
    },
    {
     "data": {
      "image/png": "[encoded data removed]",
      "text/plain": [
       "<Figure size 1800x720 with 2 Axes>"
      ]
     },
     "metadata": {
      "needs_background": "light"
     },
     "output_type": "display_data"
    }
   ],
   "source": [
    "msno.matrix(additional_df[additional_df.CREDIT_ACTIVE=='Active'])"
   ]
  },
  {
   "cell_type": "code",
   "execution_count": 10,
   "metadata": {},
   "outputs": [
    {
     "name": "stderr",
     "output_type": "stream",
     "text": [
      "/home/diego/.local/lib/python3.6/site-packages/ipykernel_launcher.py:1: SettingWithCopyWarning: \n",
      "A value is trying to be set on a copy of a slice from a DataFrame\n",
      "\n",
      "See the caveats in the documentation: http://pandas.pydata.org/pandas-docs/stable/indexing.html#indexing-view-versus-copy\n",
      "  \"\"\"Entry point for launching an IPython kernel.\n"
     ]
    }
   ],
   "source": [
    "additional_df.DAYS_ENDDATE_FACT[additional_df.CREDIT_ACTIVE=='Active'] = 1"
   ]
  },
  {
   "cell_type": "markdown",
   "metadata": {},
   "source": [
    "If I drop the two variables with more NaN's I get a much more consistent dataset"
   ]
  },
  {
   "cell_type": "code",
   "execution_count": 11,
   "metadata": {},
   "outputs": [
    {
     "data": {
      "text/plain": [
       "<matplotlib.axes._subplots.AxesSubplot at 0x7f946a16b9e8>"
      ]
     },
     "execution_count": 11,
     "metadata": {},
     "output_type": "execute_result"
    },
    {
     "data": {
      "image/png": "[encoded data removed]",
      "text/plain": [
       "<Figure size 1728x720 with 3 Axes>"
      ]
     },
     "metadata": {
      "needs_background": "light"
     },
     "output_type": "display_data"
    }
   ],
   "source": [
    "msno.bar(additional_df)"
   ]
  },
  {
   "cell_type": "code",
   "execution_count": 12,
   "metadata": {},
   "outputs": [],
   "source": [
    "additional_df = additional_df.drop(columns = ['AMT_CREDIT_MAX_OVERDUE','AMT_ANNUITY']).dropna()"
   ]
  },
  {
   "cell_type": "code",
   "execution_count": 13,
   "metadata": {},
   "outputs": [
    {
     "name": "stdout",
     "output_type": "stream",
     "text": [
      "(300948, 15)\n"
     ]
    }
   ],
   "source": [
    "print(additional_df.dropna().shape)"
   ]
  },
  {
   "cell_type": "code",
   "execution_count": 14,
   "metadata": {},
   "outputs": [
    {
     "data": {
      "text/plain": [
       "Index(['SK_ID_CURR', 'SK_ID_BUREAU', 'CREDIT_ACTIVE', 'CREDIT_CURRENCY',\n",
       "       'DAYS_CREDIT', 'CREDIT_DAY_OVERDUE', 'DAYS_CREDIT_ENDDATE',\n",
       "       'DAYS_ENDDATE_FACT', 'CNT_CREDIT_PROLONG', 'AMT_CREDIT_SUM',\n",
       "       'AMT_CREDIT_SUM_DEBT', 'AMT_CREDIT_SUM_LIMIT', 'AMT_CREDIT_SUM_OVERDUE',\n",
       "       'CREDIT_TYPE', 'DAYS_CREDIT_UPDATE'],\n",
       "      dtype='object')"
      ]
     },
     "execution_count": 14,
     "metadata": {},
     "output_type": "execute_result"
    }
   ],
   "source": [
    "additional_df.columns"
   ]
  },
  {
   "cell_type": "code",
   "execution_count": 15,
   "metadata": {},
   "outputs": [
    {
     "data": {
      "text/plain": [
       "{'SK_ID_CURR'}"
      ]
     },
     "execution_count": 15,
     "metadata": {},
     "output_type": "execute_result"
    }
   ],
   "source": [
    "set(additional_df.columns).intersection(set(main_df.columns))"
   ]
  },
  {
   "cell_type": "code",
   "execution_count": 16,
   "metadata": {},
   "outputs": [
    {
     "data": {
      "text/plain": [
       "372054    1\n",
       "120477    1\n",
       "354558    3\n",
       "405486    4\n",
       "201979    8\n",
       "Name: SK_ID_CURR, dtype: int64"
      ]
     },
     "execution_count": 16,
     "metadata": {},
     "output_type": "execute_result"
    }
   ],
   "source": [
    "additional_df.SK_ID_CURR.value_counts().sample(5)"
   ]
  },
  {
   "cell_type": "markdown",
   "metadata": {},
   "source": [
    "In order to use the additional information, I should calculate summary measures by SK_ID_CURR\n",
    "\n",
    "I exclude SK_ID_BUREAU as it is an ID. "
   ]
  },
  {
   "cell_type": "code",
   "execution_count": 17,
   "metadata": {},
   "outputs": [],
   "source": [
    "additional_df = additional_df.loc[:, additional_df.columns != 'SK_ID_BUREAU']"
   ]
  },
  {
   "cell_type": "markdown",
   "metadata": {},
   "source": [
    "I do an analysis over the categorical variables in order to understand if they can add valuable information"
   ]
  },
  {
   "cell_type": "code",
   "execution_count": 18,
   "metadata": {},
   "outputs": [],
   "source": [
    "additional_df_cat= additional_df.set_index('SK_ID_CURR').select_dtypes(['object'])"
   ]
  },
  {
   "cell_type": "code",
   "execution_count": 19,
   "metadata": {},
   "outputs": [],
   "source": [
    "additional_df_cat = additional_df_cat.join(main_df.loc[:, ['SK_ID_CURR','TARGET']].set_index('SK_ID_CURR'))"
   ]
  },
  {
   "cell_type": "code",
   "execution_count": 20,
   "metadata": {},
   "outputs": [
    {
     "data": {
      "text/html": [
       "<div>\n",
       "<style scoped>\n",
       "    .dataframe tbody tr th:only-of-type {\n",
       "        vertical-align: middle;\n",
       "    }\n",
       "\n",
       "    .dataframe tbody tr th {\n",
       "        vertical-align: top;\n",
       "    }\n",
       "\n",
       "    .dataframe thead th {\n",
       "        text-align: right;\n",
       "    }\n",
       "</style>\n",
       "<table border=\"1\" class=\"dataframe\">\n",
       "  <thead>\n",
       "    <tr style=\"text-align: right;\">\n",
       "      <th></th>\n",
       "      <th>CREDIT_ACTIVE</th>\n",
       "      <th>CREDIT_CURRENCY</th>\n",
       "      <th>CREDIT_TYPE</th>\n",
       "      <th>TARGET</th>\n",
       "    </tr>\n",
       "    <tr>\n",
       "      <th>SK_ID_CURR</th>\n",
       "      <th></th>\n",
       "      <th></th>\n",
       "      <th></th>\n",
       "      <th></th>\n",
       "    </tr>\n",
       "  </thead>\n",
       "  <tbody>\n",
       "    <tr>\n",
       "      <th>427208</th>\n",
       "      <td>Closed</td>\n",
       "      <td>currency 1</td>\n",
       "      <td>Car loan</td>\n",
       "      <td>0.0</td>\n",
       "    </tr>\n",
       "    <tr>\n",
       "      <th>353038</th>\n",
       "      <td>Closed</td>\n",
       "      <td>currency 1</td>\n",
       "      <td>Consumer credit</td>\n",
       "      <td>0.0</td>\n",
       "    </tr>\n",
       "  </tbody>\n",
       "</table>\n",
       "</div>"
      ],
      "text/plain": [
       "           CREDIT_ACTIVE CREDIT_CURRENCY      CREDIT_TYPE  TARGET\n",
       "SK_ID_CURR                                                       \n",
       "427208            Closed      currency 1         Car loan     0.0\n",
       "353038            Closed      currency 1  Consumer credit     0.0"
      ]
     },
     "execution_count": 20,
     "metadata": {},
     "output_type": "execute_result"
    }
   ],
   "source": [
    "additional_df_cat.sample(2)"
   ]
  },
  {
   "cell_type": "code",
   "execution_count": 21,
   "metadata": {},
   "outputs": [],
   "source": [
    "additional_df_cat['TARGET'] =additional_df_cat['TARGET'].astype('category')"
   ]
  },
  {
   "cell_type": "code",
   "execution_count": 22,
   "metadata": {},
   "outputs": [
    {
     "data": {
      "text/plain": [
       "TARGET  CREDIT_ACTIVE\n",
       "0.0     Closed           0.614313\n",
       "        Active           0.384567\n",
       "        Sold             0.001116\n",
       "        Bad debt         0.000004\n",
       "1.0     Closed           0.544749\n",
       "        Active           0.452858\n",
       "        Sold             0.002393\n",
       "Name: CREDIT_ACTIVE, dtype: float64"
      ]
     },
     "execution_count": 22,
     "metadata": {},
     "output_type": "execute_result"
    }
   ],
   "source": [
    "additional_df_cat.groupby('TARGET').CREDIT_ACTIVE.value_counts(normalize=True)"
   ]
  },
  {
   "cell_type": "code",
   "execution_count": 23,
   "metadata": {},
   "outputs": [
    {
     "data": {
      "text/plain": [
       "TARGET  CREDIT_CURRENCY\n",
       "0.0     currency 1         0.999645\n",
       "        currency 2         0.000328\n",
       "        currency 3         0.000018\n",
       "        currency 4         0.000009\n",
       "1.0     currency 1         1.000000\n",
       "Name: CREDIT_CURRENCY, dtype: float64"
      ]
     },
     "execution_count": 23,
     "metadata": {},
     "output_type": "execute_result"
    }
   ],
   "source": [
    "additional_df_cat.groupby('TARGET').CREDIT_CURRENCY.value_counts(normalize=True)"
   ]
  },
  {
   "cell_type": "code",
   "execution_count": 24,
   "metadata": {},
   "outputs": [
    {
     "data": {
      "text/plain": [
       "TARGET  CREDIT_TYPE                           \n",
       "0.0     Consumer credit                           0.761632\n",
       "        Credit card                               0.212575\n",
       "        Mortgage                                  0.012491\n",
       "        Car loan                                  0.010719\n",
       "        Microloan                                 0.001566\n",
       "        Unknown type of loan                      0.000531\n",
       "        Another type of loan                      0.000337\n",
       "        Loan for business development             0.000108\n",
       "        Cash loan (non-earmarked)                 0.000031\n",
       "        Loan for the purchase of equipment        0.000004\n",
       "        Real estate loan                          0.000004\n",
       "1.0     Consumer credit                           0.744323\n",
       "        Credit card                               0.233129\n",
       "        Mortgage                                  0.008774\n",
       "        Car loan                                  0.007764\n",
       "        Microloan                                 0.005424\n",
       "        Another type of loan                      0.000266\n",
       "        Unknown type of loan                      0.000266\n",
       "        Loan for working capital replenishment    0.000053\n",
       "Name: CREDIT_TYPE, dtype: float64"
      ]
     },
     "execution_count": 24,
     "metadata": {},
     "output_type": "execute_result"
    }
   ],
   "source": [
    "additional_df_cat.groupby('TARGET').CREDIT_TYPE.value_counts(normalize=True)"
   ]
  },
  {
   "cell_type": "markdown",
   "metadata": {},
   "source": [
    "The distribution over the categories in this variables don't change with respect of the target (except maybe the active/closed status).\n",
    "\n",
    "As there is no direct way to add this variables to the final dataset, such as summary measures, and from the distribution of the variables it doesn't emerge a clear patron (i.e. all the _car loans_ have target=1) I decided to exclude this group of variables."
   ]
  },
  {
   "cell_type": "code",
   "execution_count": 25,
   "metadata": {},
   "outputs": [],
   "source": [
    "additional_df= additional_df.select_dtypes(['number']).set_index('SK_ID_CURR').stack().reset_index()\n",
    "additional_df.columns =['SK_ID_CURR', 'feature', 'value']\n",
    "additional_df_summary = additional_df.groupby(['SK_ID_CURR','feature']).agg({'value':[np.nansum, np.nanmean, np.nanmedian, 'count']}).unstack()\n",
    "additional_df_summary.columns =additional_df_summary.columns.map('_'.join)\n"
   ]
  },
  {
   "cell_type": "code",
   "execution_count": 26,
   "metadata": {},
   "outputs": [
    {
     "data": {
      "text/html": [
       "<div>\n",
       "<style scoped>\n",
       "    .dataframe tbody tr th:only-of-type {\n",
       "        vertical-align: middle;\n",
       "    }\n",
       "\n",
       "    .dataframe tbody tr th {\n",
       "        vertical-align: top;\n",
       "    }\n",
       "\n",
       "    .dataframe thead th {\n",
       "        text-align: right;\n",
       "    }\n",
       "</style>\n",
       "<table border=\"1\" class=\"dataframe\">\n",
       "  <thead>\n",
       "    <tr style=\"text-align: right;\">\n",
       "      <th></th>\n",
       "      <th>value_nansum_AMT_CREDIT_SUM</th>\n",
       "      <th>value_nansum_AMT_CREDIT_SUM_DEBT</th>\n",
       "      <th>value_nansum_AMT_CREDIT_SUM_LIMIT</th>\n",
       "      <th>value_nansum_AMT_CREDIT_SUM_OVERDUE</th>\n",
       "      <th>value_nansum_CNT_CREDIT_PROLONG</th>\n",
       "      <th>value_nansum_CREDIT_DAY_OVERDUE</th>\n",
       "      <th>value_nansum_DAYS_CREDIT</th>\n",
       "      <th>value_nansum_DAYS_CREDIT_ENDDATE</th>\n",
       "      <th>value_nansum_DAYS_CREDIT_UPDATE</th>\n",
       "      <th>value_nansum_DAYS_ENDDATE_FACT</th>\n",
       "      <th>...</th>\n",
       "      <th>value_count_AMT_CREDIT_SUM</th>\n",
       "      <th>value_count_AMT_CREDIT_SUM_DEBT</th>\n",
       "      <th>value_count_AMT_CREDIT_SUM_LIMIT</th>\n",
       "      <th>value_count_AMT_CREDIT_SUM_OVERDUE</th>\n",
       "      <th>value_count_CNT_CREDIT_PROLONG</th>\n",
       "      <th>value_count_CREDIT_DAY_OVERDUE</th>\n",
       "      <th>value_count_DAYS_CREDIT</th>\n",
       "      <th>value_count_DAYS_CREDIT_ENDDATE</th>\n",
       "      <th>value_count_DAYS_CREDIT_UPDATE</th>\n",
       "      <th>value_count_DAYS_ENDDATE_FACT</th>\n",
       "    </tr>\n",
       "    <tr>\n",
       "      <th>SK_ID_CURR</th>\n",
       "      <th></th>\n",
       "      <th></th>\n",
       "      <th></th>\n",
       "      <th></th>\n",
       "      <th></th>\n",
       "      <th></th>\n",
       "      <th></th>\n",
       "      <th></th>\n",
       "      <th></th>\n",
       "      <th></th>\n",
       "      <th></th>\n",
       "      <th></th>\n",
       "      <th></th>\n",
       "      <th></th>\n",
       "      <th></th>\n",
       "      <th></th>\n",
       "      <th></th>\n",
       "      <th></th>\n",
       "      <th></th>\n",
       "      <th></th>\n",
       "      <th></th>\n",
       "    </tr>\n",
       "  </thead>\n",
       "  <tbody>\n",
       "    <tr>\n",
       "      <th>108293</th>\n",
       "      <td>637650.0</td>\n",
       "      <td>0.0</td>\n",
       "      <td>0.0</td>\n",
       "      <td>0.0</td>\n",
       "      <td>0.0</td>\n",
       "      <td>0.0</td>\n",
       "      <td>-1409.0</td>\n",
       "      <td>-559.0</td>\n",
       "      <td>-550.0</td>\n",
       "      <td>-549.0</td>\n",
       "      <td>...</td>\n",
       "      <td>2</td>\n",
       "      <td>2</td>\n",
       "      <td>2</td>\n",
       "      <td>2</td>\n",
       "      <td>2</td>\n",
       "      <td>2</td>\n",
       "      <td>2</td>\n",
       "      <td>2</td>\n",
       "      <td>2</td>\n",
       "      <td>2</td>\n",
       "    </tr>\n",
       "    <tr>\n",
       "      <th>398813</th>\n",
       "      <td>450000.0</td>\n",
       "      <td>343953.0</td>\n",
       "      <td>90000.0</td>\n",
       "      <td>0.0</td>\n",
       "      <td>0.0</td>\n",
       "      <td>0.0</td>\n",
       "      <td>-668.0</td>\n",
       "      <td>2274.0</td>\n",
       "      <td>-72.0</td>\n",
       "      <td>2.0</td>\n",
       "      <td>...</td>\n",
       "      <td>2</td>\n",
       "      <td>2</td>\n",
       "      <td>2</td>\n",
       "      <td>2</td>\n",
       "      <td>2</td>\n",
       "      <td>2</td>\n",
       "      <td>2</td>\n",
       "      <td>2</td>\n",
       "      <td>2</td>\n",
       "      <td>2</td>\n",
       "    </tr>\n",
       "  </tbody>\n",
       "</table>\n",
       "<p>2 rows × 40 columns</p>\n",
       "</div>"
      ],
      "text/plain": [
       "            value_nansum_AMT_CREDIT_SUM  value_nansum_AMT_CREDIT_SUM_DEBT  \\\n",
       "SK_ID_CURR                                                                  \n",
       "108293                         637650.0                               0.0   \n",
       "398813                         450000.0                          343953.0   \n",
       "\n",
       "            value_nansum_AMT_CREDIT_SUM_LIMIT  \\\n",
       "SK_ID_CURR                                      \n",
       "108293                                    0.0   \n",
       "398813                                90000.0   \n",
       "\n",
       "            value_nansum_AMT_CREDIT_SUM_OVERDUE  \\\n",
       "SK_ID_CURR                                        \n",
       "108293                                      0.0   \n",
       "398813                                      0.0   \n",
       "\n",
       "            value_nansum_CNT_CREDIT_PROLONG  value_nansum_CREDIT_DAY_OVERDUE  \\\n",
       "SK_ID_CURR                                                                     \n",
       "108293                                  0.0                              0.0   \n",
       "398813                                  0.0                              0.0   \n",
       "\n",
       "            value_nansum_DAYS_CREDIT  value_nansum_DAYS_CREDIT_ENDDATE  \\\n",
       "SK_ID_CURR                                                               \n",
       "108293                       -1409.0                            -559.0   \n",
       "398813                        -668.0                            2274.0   \n",
       "\n",
       "            value_nansum_DAYS_CREDIT_UPDATE  value_nansum_DAYS_ENDDATE_FACT  \\\n",
       "SK_ID_CURR                                                                    \n",
       "108293                               -550.0                          -549.0   \n",
       "398813                                -72.0                             2.0   \n",
       "\n",
       "            ...  value_count_AMT_CREDIT_SUM  value_count_AMT_CREDIT_SUM_DEBT  \\\n",
       "SK_ID_CURR  ...                                                                \n",
       "108293      ...                           2                                2   \n",
       "398813      ...                           2                                2   \n",
       "\n",
       "            value_count_AMT_CREDIT_SUM_LIMIT  \\\n",
       "SK_ID_CURR                                     \n",
       "108293                                     2   \n",
       "398813                                     2   \n",
       "\n",
       "            value_count_AMT_CREDIT_SUM_OVERDUE  \\\n",
       "SK_ID_CURR                                       \n",
       "108293                                       2   \n",
       "398813                                       2   \n",
       "\n",
       "            value_count_CNT_CREDIT_PROLONG  value_count_CREDIT_DAY_OVERDUE  \\\n",
       "SK_ID_CURR                                                                   \n",
       "108293                                   2                               2   \n",
       "398813                                   2                               2   \n",
       "\n",
       "            value_count_DAYS_CREDIT  value_count_DAYS_CREDIT_ENDDATE  \\\n",
       "SK_ID_CURR                                                             \n",
       "108293                            2                                2   \n",
       "398813                            2                                2   \n",
       "\n",
       "            value_count_DAYS_CREDIT_UPDATE  value_count_DAYS_ENDDATE_FACT  \n",
       "SK_ID_CURR                                                                 \n",
       "108293                                   2                              2  \n",
       "398813                                   2                              2  \n",
       "\n",
       "[2 rows x 40 columns]"
      ]
     },
     "execution_count": 26,
     "metadata": {},
     "output_type": "execute_result"
    }
   ],
   "source": [
    "additional_df_summary.sample(2)"
   ]
  },
  {
   "cell_type": "code",
   "execution_count": 27,
   "metadata": {},
   "outputs": [
    {
     "data": {
      "text/plain": [
       "(77959, 40)"
      ]
     },
     "execution_count": 27,
     "metadata": {},
     "output_type": "execute_result"
    }
   ],
   "source": [
    "additional_df_summary.shape"
   ]
  },
  {
   "cell_type": "code",
   "execution_count": 28,
   "metadata": {},
   "outputs": [],
   "source": [
    "joined_df = main_df.set_index('SK_ID_CURR').join(additional_df_summary)"
   ]
  },
  {
   "cell_type": "code",
   "execution_count": 29,
   "metadata": {},
   "outputs": [
    {
     "name": "stdout",
     "output_type": "stream",
     "text": [
      "(80000, 93)\n",
      "(62348, 93)\n",
      "the intersection between the two datasets is 62348\n"
     ]
    }
   ],
   "source": [
    "print(joined_df.shape)\n",
    "\n",
    "print(joined_df.dropna().shape)\n",
    "\n",
    "print('the intersection between the two datasets is {}'.format(len( set(main_df.SK_ID_CURR).intersection(set(additional_df_summary.index)))))"
   ]
  },
  {
   "cell_type": "markdown",
   "metadata": {},
   "source": [
    "When I join the two datasets, new NaNs appears as not all the SK_ID_CURR from the main data exists in the cleaned additional dataset\n",
    "\n",
    "I drop the data with NA. I could imput by the mean or a specific value, but the I consider that the amount of loss is manageable"
   ]
  },
  {
   "cell_type": "code",
   "execution_count": 30,
   "metadata": {},
   "outputs": [],
   "source": [
    "joined_df = joined_df.dropna()"
   ]
  },
  {
   "cell_type": "markdown",
   "metadata": {},
   "source": [
    "I divide the features from the target, and split in train and test"
   ]
  },
  {
   "cell_type": "code",
   "execution_count": 31,
   "metadata": {},
   "outputs": [],
   "source": [
    "X = joined_df.loc[:, joined_df.columns != 'TARGET']\n"
   ]
  },
  {
   "cell_type": "markdown",
   "metadata": {},
   "source": [
    "I need to One Hot encode categorical variables"
   ]
  },
  {
   "cell_type": "code",
   "execution_count": 32,
   "metadata": {},
   "outputs": [],
   "source": [
    "categorical_X = X.select_dtypes(['object'])\n",
    "numeric_X = X.select_dtypes(['number'])\n",
    "le = LabelEncoder()\n",
    "categorical_X= categorical_X.apply(LabelEncoder().fit_transform)\n",
    "ohe = OneHotEncoder(sparse=False,handle_unknown='ignore')\n",
    "categorical_X = ohe.fit_transform(categorical_X)\n",
    "numeric_X = np.array(numeric_X)\n",
    "\n",
    "X = np.concatenate((numeric_X,categorical_X),axis=1)"
   ]
  },
  {
   "cell_type": "code",
   "execution_count": 33,
   "metadata": {},
   "outputs": [],
   "source": [
    "df = pd.DataFrame(X)"
   ]
  },
  {
   "cell_type": "code",
   "execution_count": 34,
   "metadata": {},
   "outputs": [],
   "source": [
    "df=df.assign(target=joined_df.TARGET.values)"
   ]
  },
  {
   "cell_type": "code",
   "execution_count": 35,
   "metadata": {},
   "outputs": [],
   "source": [
    "df_train, df_test = train_test_split(df,random_state=12,test_size=.1)\n",
    "df_train, df_validation = train_test_split(df_train,random_state=12,test_size=.1)"
   ]
  },
  {
   "cell_type": "markdown",
   "metadata": {},
   "source": [
    "## Target balance"
   ]
  },
  {
   "cell_type": "code",
   "execution_count": 36,
   "metadata": {},
   "outputs": [],
   "source": [
    "target_count = df_train.target.value_counts()"
   ]
  },
  {
   "cell_type": "code",
   "execution_count": 37,
   "metadata": {},
   "outputs": [
    {
     "name": "stdout",
     "output_type": "stream",
     "text": [
      "Class 0: 46565\n",
      "Class 1: 3936\n",
      "Proportion: 11.83 : 1\n"
     ]
    },
    {
     "data": {
      "image/png": "[encoded data removed]",
      "text/plain": [
       "<Figure size 432x288 with 1 Axes>"
      ]
     },
     "metadata": {
      "needs_background": "light"
     },
     "output_type": "display_data"
    }
   ],
   "source": [
    "print('Class 0:', target_count[0])\n",
    "print('Class 1:', target_count[1])\n",
    "print('Proportion:', round(target_count[0] / target_count[1], 2), ': 1')\n",
    "\n",
    "target_count.plot(kind='bar', title='Count (target)');"
   ]
  },
  {
   "cell_type": "markdown",
   "metadata": {},
   "source": [
    "The target is heavily unbalanced. Here is important to recognize the problem objective, because this determines how to proceed.\n",
    "\n",
    "The Documentation states that the goal is to 'predict whether to offer loans to clients' but we do not know the relative costs of __false positives__ and __false negatives__. \n",
    "\n",
    "I will make the following __assumption__: The main goal is to predict well the __positive__ class, because it imply more costs. i.e. the target is the defaulted loans, and hence a correct prediction of this is more valuable than a correct prediction of the non-defaulted loans"
   ]
  },
  {
   "cell_type": "markdown",
   "metadata": {},
   "source": [
    "Because of the previous assumption I will _resample_ the dataset in order to balance the classes. In order to avoid loosing more data, I decided to use __random over-sampling__"
   ]
  },
  {
   "cell_type": "code",
   "execution_count": 38,
   "metadata": {},
   "outputs": [],
   "source": [
    "# Class count\n",
    "count_class_0, count_class_1 = target_count\n"
   ]
  },
  {
   "cell_type": "code",
   "execution_count": 39,
   "metadata": {},
   "outputs": [],
   "source": [
    "# Divide by class\n",
    "df_class_0 = df_train[df_train['target'] == 0]\n",
    "df_class_1 = df_train[df_train['target'] == 1]"
   ]
  },
  {
   "cell_type": "code",
   "execution_count": 40,
   "metadata": {},
   "outputs": [
    {
     "name": "stdout",
     "output_type": "stream",
     "text": [
      "Random over-sampling:\n",
      "1    46565\n",
      "0    46565\n",
      "Name: target, dtype: int64\n"
     ]
    },
    {
     "data": {
      "image/png": "[encoded data removed]",
      "text/plain": [
       "<Figure size 432x288 with 1 Axes>"
      ]
     },
     "metadata": {
      "needs_background": "light"
     },
     "output_type": "display_data"
    }
   ],
   "source": [
    "df_class_1_over = df_class_1.sample(count_class_0, replace=True)\n",
    "df_train_resampled = pd.concat([df_class_0, df_class_1_over], axis=0)\n",
    "\n",
    "print('Random over-sampling:')\n",
    "print(df_train_resampled.target.value_counts())\n",
    "\n",
    "df_train_resampled.target.value_counts().plot(kind='bar', title='Count (target)');"
   ]
  },
  {
   "cell_type": "code",
   "execution_count": 41,
   "metadata": {},
   "outputs": [],
   "source": [
    "X_train = df_train_resampled.drop('target', axis=1).values\n",
    "y_train = df_train_resampled.target.values\n",
    "\n",
    "X_val = df_validation.drop('target', axis=1).values\n",
    "y_val = df_validation.target.values\n",
    "\n",
    "X_test = df_test.drop('target', axis=1).values\n",
    "y_test = df_test.target.values"
   ]
  },
  {
   "cell_type": "markdown",
   "metadata": {},
   "source": [
    "### Model fitting\n",
    "\n",
    "I will try three diferent models, from the simplest to the most advanced techinques:\n",
    "\n",
    "- Logistic regression\n",
    "- Naive Bayes\n",
    "- Gradient Boosting Machine\n",
    "\n",
    "I decided to use a Gradient Boosting Machine (from the same family of models of the famous XGBOOST) and not a Deep Learning approach because of the input data. In my experience structured data is best fitted by ensambles of trees, while is better to approach unstructured problems(image, audio, etc) with neural networks"
   ]
  },
  {
   "cell_type": "markdown",
   "metadata": {},
   "source": [
    "#### Logistic regression"
   ]
  },
  {
   "cell_type": "code",
   "execution_count": 42,
   "metadata": {},
   "outputs": [],
   "source": [
    "from sklearn.linear_model import LogisticRegression"
   ]
  },
  {
   "cell_type": "code",
   "execution_count": 43,
   "metadata": {},
   "outputs": [
    {
     "name": "stderr",
     "output_type": "stream",
     "text": [
      "/home/diego/.local/lib/python3.6/site-packages/sklearn/linear_model/logistic.py:433: FutureWarning: Default solver will be changed to 'lbfgs' in 0.22. Specify a solver to silence this warning.\n",
      "  FutureWarning)\n"
     ]
    },
    {
     "data": {
      "text/plain": [
       "LogisticRegression(C=1.0, class_weight=None, dual=False, fit_intercept=True,\n",
       "          intercept_scaling=1, max_iter=100, multi_class='warn',\n",
       "          n_jobs=None, penalty='l2', random_state=None, solver='warn',\n",
       "          tol=0.0001, verbose=0, warm_start=False)"
      ]
     },
     "execution_count": 43,
     "metadata": {},
     "output_type": "execute_result"
    }
   ],
   "source": [
    "logit = LogisticRegression()\n",
    "logit.fit(X_train,y_train)"
   ]
  },
  {
   "cell_type": "code",
   "execution_count": 44,
   "metadata": {},
   "outputs": [
    {
     "data": {
      "text/plain": [
       "0.5974697077690663"
      ]
     },
     "execution_count": 44,
     "metadata": {},
     "output_type": "execute_result"
    }
   ],
   "source": [
    "logit.score(X_val,y_val)"
   ]
  },
  {
   "cell_type": "code",
   "execution_count": 45,
   "metadata": {},
   "outputs": [
    {
     "name": "stdout",
     "output_type": "stream",
     "text": [
      "[[3111 2049]\n",
      " [ 210  242]]\n",
      "              precision    recall  f1-score   support\n",
      "\n",
      "           0       0.94      0.60      0.73      5160\n",
      "           1       0.11      0.54      0.18       452\n",
      "\n",
      "   micro avg       0.60      0.60      0.60      5612\n",
      "   macro avg       0.52      0.57      0.46      5612\n",
      "weighted avg       0.87      0.60      0.69      5612\n",
      "\n"
     ]
    }
   ],
   "source": [
    "y_pred=logit.predict(X_val)\n",
    "print(confusion_matrix(y_val, y_pred))\n",
    "print(classification_report(y_val, y_pred))"
   ]
  },
  {
   "cell_type": "markdown",
   "metadata": {},
   "source": [
    "#### Naive Bayes"
   ]
  },
  {
   "cell_type": "code",
   "execution_count": 46,
   "metadata": {},
   "outputs": [],
   "source": [
    "from sklearn.naive_bayes import GaussianNB"
   ]
  },
  {
   "cell_type": "code",
   "execution_count": 47,
   "metadata": {},
   "outputs": [
    {
     "data": {
      "text/plain": [
       "GaussianNB(priors=None, var_smoothing=1e-09)"
      ]
     },
     "execution_count": 47,
     "metadata": {},
     "output_type": "execute_result"
    }
   ],
   "source": [
    "nb = GaussianNB()\n",
    "nb.fit(X_train, y_train)"
   ]
  },
  {
   "cell_type": "code",
   "execution_count": 48,
   "metadata": {},
   "outputs": [
    {
     "data": {
      "text/plain": [
       "0.5363506771204561"
      ]
     },
     "execution_count": 48,
     "metadata": {},
     "output_type": "execute_result"
    }
   ],
   "source": [
    "nb.score(X_val,y_val)"
   ]
  },
  {
   "cell_type": "code",
   "execution_count": 49,
   "metadata": {},
   "outputs": [
    {
     "name": "stdout",
     "output_type": "stream",
     "text": [
      "[[2716 2444]\n",
      " [ 158  294]]\n",
      "              precision    recall  f1-score   support\n",
      "\n",
      "           0       0.95      0.53      0.68      5160\n",
      "           1       0.11      0.65      0.18       452\n",
      "\n",
      "   micro avg       0.54      0.54      0.54      5612\n",
      "   macro avg       0.53      0.59      0.43      5612\n",
      "weighted avg       0.88      0.54      0.64      5612\n",
      "\n"
     ]
    }
   ],
   "source": [
    "y_pred=nb.predict(X_val)\n",
    "print(confusion_matrix(y_val, y_pred))\n",
    "print(classification_report(y_val, y_pred))"
   ]
  },
  {
   "cell_type": "markdown",
   "metadata": {},
   "source": [
    "### Gradient Bosting Machine"
   ]
  },
  {
   "cell_type": "code",
   "execution_count": 50,
   "metadata": {},
   "outputs": [
    {
     "data": {
      "text/plain": [
       "GradientBoostingClassifier(criterion='friedman_mse', init=None,\n",
       "              learning_rate=0.1, loss='deviance', max_depth=3,\n",
       "              max_features=None, max_leaf_nodes=None,\n",
       "              min_impurity_decrease=0.0, min_impurity_split=None,\n",
       "              min_samples_leaf=1, min_samples_split=2,\n",
       "              min_weight_fraction_leaf=0.0, n_estimators=100,\n",
       "              n_iter_no_change=None, presort='auto', random_state=None,\n",
       "              subsample=1.0, tol=0.0001, validation_fraction=0.1,\n",
       "              verbose=0, warm_start=False)"
      ]
     },
     "execution_count": 50,
     "metadata": {},
     "output_type": "execute_result"
    }
   ],
   "source": [
    "bstmodel = GradientBoostingClassifier()\n",
    "bstmodel.fit(X_train,y_train)"
   ]
  },
  {
   "cell_type": "code",
   "execution_count": 51,
   "metadata": {},
   "outputs": [
    {
     "data": {
      "text/plain": [
       "0.6560940841054882"
      ]
     },
     "execution_count": 51,
     "metadata": {},
     "output_type": "execute_result"
    }
   ],
   "source": [
    "bstmodel.score(X_val,y_val)"
   ]
  },
  {
   "cell_type": "code",
   "execution_count": 52,
   "metadata": {},
   "outputs": [
    {
     "name": "stdout",
     "output_type": "stream",
     "text": [
      "[[3419 1741]\n",
      " [ 189  263]]\n",
      "              precision    recall  f1-score   support\n",
      "\n",
      "           0       0.95      0.66      0.78      5160\n",
      "           1       0.13      0.58      0.21       452\n",
      "\n",
      "   micro avg       0.66      0.66      0.66      5612\n",
      "   macro avg       0.54      0.62      0.50      5612\n",
      "weighted avg       0.88      0.66      0.73      5612\n",
      "\n"
     ]
    }
   ],
   "source": [
    "y_pred=bstmodel.predict(X_val)\n",
    "print(confusion_matrix(y_val, y_pred))\n",
    "print(classification_report(y_val, y_pred))"
   ]
  },
  {
   "cell_type": "markdown",
   "metadata": {},
   "source": [
    "there is an important trade-off between the recall of the two classes. In order to optimize this, it would be necessary more information of the costs involved in the different types of mistakes. This would modify both the resampling and the model selection (between Naive Bayes and the Gradient Boosting Machine)"
   ]
  },
  {
   "cell_type": "markdown",
   "metadata": {},
   "source": [
    "### Final Model\n",
    "\n",
    "Based on the results on the validation set, I choose the Gradient boosting machine model, and test it over the test set"
   ]
  },
  {
   "cell_type": "code",
   "execution_count": 53,
   "metadata": {},
   "outputs": [
    {
     "data": {
      "text/plain": [
       "0.657738572574178"
      ]
     },
     "execution_count": 53,
     "metadata": {},
     "output_type": "execute_result"
    }
   ],
   "source": [
    "bstmodel.score(X_test,y_test)"
   ]
  },
  {
   "cell_type": "code",
   "execution_count": 54,
   "metadata": {},
   "outputs": [
    {
     "name": "stdout",
     "output_type": "stream",
     "text": [
      "[[3807 1932]\n",
      " [ 202  294]]\n",
      "              precision    recall  f1-score   support\n",
      "\n",
      "           0       0.95      0.66      0.78      5739\n",
      "           1       0.13      0.59      0.22       496\n",
      "\n",
      "   micro avg       0.66      0.66      0.66      6235\n",
      "   macro avg       0.54      0.63      0.50      6235\n",
      "weighted avg       0.88      0.66      0.74      6235\n",
      "\n"
     ]
    }
   ],
   "source": [
    "y_pred=bstmodel.predict(X_test)\n",
    "print(confusion_matrix(y_test, y_pred))\n",
    "print(classification_report(y_test, y_pred))"
   ]
  },
  {
   "cell_type": "markdown",
   "metadata": {},
   "source": [
    "## Final notes\n",
    "\n",
    "This workflow could be enhanced by using a pipeline from _sklearn.pipeline_ and cross-validation for the fine tuning of the final model. This would also be helpful in order to choose if the missing data should be excluded (like I did) or imputed, and how (mean, 0, or maybe some imputation algorithm).\n",
    "\n",
    "\n",
    "Given the limited time for this exercise and that the Boosting Machine default parameters are known to be robust, I decided to skip this part. The decision of excluding the missing values was supported with the validation set, but is not showed for the clarity of the code\n"
   ]
  }
 ],
 "metadata": {
  "kernelspec": {
   "display_name": "Python 3",
   "language": "python",
   "name": "python3"
  },
  "language_info": {
   "codemirror_mode": {
    "name": "ipython",
    "version": 3
   },
   "file_extension": ".py",
   "mimetype": "text/x-python",
   "name": "python",
   "nbconvert_exporter": "python",
   "pygments_lexer": "ipython3",
   "version": "3.6.7"
  }
 },
 "nbformat": 4,
 "nbformat_minor": 2
}
